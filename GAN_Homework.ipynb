{
  "nbformat": 4,
  "nbformat_minor": 0,
  "metadata": {
    "colab": {
      "name": "GAN_Homework.ipynb",
      "version": "0.3.2",
      "provenance": [],
      "include_colab_link": true
    },
    "kernelspec": {
      "name": "python3",
      "display_name": "Python 3"
    }
  },
  "cells": [
    {
      "cell_type": "markdown",
      "metadata": {
        "id": "view-in-github",
        "colab_type": "text"
      },
      "source": [
        "<a href=\"https://colab.research.google.com/github/sanmayphy/course-v3/blob/master/GAN_Homework.ipynb\" target=\"_parent\"><img src=\"https://colab.research.google.com/assets/colab-badge.svg\" alt=\"Open In Colab\"/></a>"
      ]
    },
    {
      "cell_type": "markdown",
      "metadata": {
        "id": "f606rggonqiC",
        "colab_type": "text"
      },
      "source": [
        "## The dataset is staged at : https://weizmann.box.com/s/fdueo24q6tx22v4pkunhn5rd7nbhg420"
      ]
    },
    {
      "cell_type": "markdown",
      "metadata": {
        "id": "oQWxNarRnyCF",
        "colab_type": "text"
      },
      "source": [
        "### Generate the flower dataset using CGAN "
      ]
    },
    {
      "cell_type": "code",
      "metadata": {
        "id": "pyqkrpwdnuDd",
        "colab_type": "code",
        "colab": {}
      },
      "source": [
        ""
      ],
      "execution_count": 0,
      "outputs": []
    }
  ]
}